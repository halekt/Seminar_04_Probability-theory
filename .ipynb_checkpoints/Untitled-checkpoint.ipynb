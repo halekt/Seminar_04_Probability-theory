{
 "cells": [
  {
   "cell_type": "code",
   "execution_count": 21,
   "id": "841ca010",
   "metadata": {},
   "outputs": [],
   "source": [
    "import numpy as np\n",
    "import math\n",
    "from scipy.stats import norm"
   ]
  },
  {
   "cell_type": "code",
   "execution_count": 22,
   "id": "97533312",
   "metadata": {},
   "outputs": [],
   "source": [
    "# Задача 1. Случайная непрерывная величина A имеет равномерное распределение на\n",
    "# промежутке (200, 800].\n",
    "# Найдите ее среднее значение и дисперсию."
   ]
  },
  {
   "cell_type": "code",
   "execution_count": 23,
   "id": "ef958847",
   "metadata": {},
   "outputs": [],
   "source": [
    "# считаем среднее значение"
   ]
  },
  {
   "cell_type": "code",
   "execution_count": 24,
   "id": "ec23889a",
   "metadata": {},
   "outputs": [
    {
     "data": {
      "text/plain": [
       "500.0"
      ]
     },
     "execution_count": 24,
     "metadata": {},
     "output_type": "execute_result"
    }
   ],
   "source": [
    "mu=(800+200)/2\n",
    "mu\n"
   ]
  },
  {
   "cell_type": "code",
   "execution_count": 25,
   "id": "678e27bf",
   "metadata": {},
   "outputs": [],
   "source": [
    "# считаем дисперсию"
   ]
  },
  {
   "cell_type": "code",
   "execution_count": 26,
   "id": "b85d5c0e",
   "metadata": {},
   "outputs": [
    {
     "data": {
      "text/plain": [
       "30000.0"
      ]
     },
     "execution_count": 26,
     "metadata": {},
     "output_type": "execute_result"
    }
   ],
   "source": [
    "d=(800-200)**2/12\n",
    "d"
   ]
  },
  {
   "cell_type": "code",
   "execution_count": 27,
   "id": "575e8086",
   "metadata": {},
   "outputs": [],
   "source": [
    "# Задача 2. О случайной непрерывной равномерно распределенной величине B известно, что ее дисперсия равна 0.2.\n",
    "# Можно ли найти правую границу величины B и ее среднее значение зная, что левая граница равна 0.5? Если да, найдите ее."
   ]
  },
  {
   "cell_type": "code",
   "execution_count": 28,
   "id": "32fe0d8d",
   "metadata": {},
   "outputs": [],
   "source": [
    "# Найдем правую границу величины B"
   ]
  },
  {
   "cell_type": "code",
   "execution_count": 29,
   "id": "e1672717",
   "metadata": {},
   "outputs": [
    {
     "data": {
      "text/plain": [
       "2.049193338482967"
      ]
     },
     "execution_count": 29,
     "metadata": {},
     "output_type": "execute_result"
    }
   ],
   "source": [
    "b=0.5+2.4**(1/2)\n",
    "b"
   ]
  },
  {
   "cell_type": "code",
   "execution_count": 30,
   "id": "e19b4d75",
   "metadata": {},
   "outputs": [],
   "source": [
    "# Найдем среднее значение B "
   ]
  },
  {
   "cell_type": "code",
   "execution_count": 31,
   "id": "2a3eac8e",
   "metadata": {},
   "outputs": [
    {
     "data": {
      "text/plain": [
       "1.2745966692414834"
      ]
     },
     "execution_count": 31,
     "metadata": {},
     "output_type": "execute_result"
    }
   ],
   "source": [
    "mu=(b+0.5)/2\n",
    "mu"
   ]
  },
  {
   "cell_type": "code",
   "execution_count": 32,
   "id": "6eb38aee",
   "metadata": {},
   "outputs": [],
   "source": [
    "# Задача 3. Непрерывная случайная величина X распределена нормально и задана плотностью распределения\n",
    "# f(x) = (1 / (4 * sqrt(2pi))) * exp((-(x+2)**2) / 32)\n",
    "# Найдите:\n",
    "# а). M(X)\n",
    "# б). D(X)\n",
    "# в). std(X) (среднее квадратичное отклонение)"
   ]
  },
  {
   "cell_type": "code",
   "execution_count": 33,
   "id": "09b0e587",
   "metadata": {},
   "outputs": [],
   "source": [
    "# Ответ "
   ]
  },
  {
   "cell_type": "code",
   "execution_count": 34,
   "id": "511bc82b",
   "metadata": {},
   "outputs": [],
   "source": [
    "# Задача 4. Рост взрослого населения города X имеет нормальное распределение, причем, средний рост равен 174 см, \n",
    "# а среднее квадратическое отклонение равно 8 см. посчитайте, какова вероятность того,\n",
    "# что случайным образом выбранный взрослый человек имеет рост:\n",
    "# 1. больше 182 см?\n",
    "# 2. больше 190 см?\n",
    "# 3. от 166 см до 190 см?\n",
    "# 4. от 166 см до 182 см?\n",
    "# 5. от 158 см до 190 см?\n",
    "# 6. не выше 150 см или не ниже 190 см?\n",
    "# 7. не выше 150 см или не ниже 198 см?\n",
    "# 8. ниже 166 см?\n",
    "\n",
    "# Задачу можно решить двумя способами: без использования сторонних библиотек (numpy, scipy, pandas и пр.),\n",
    "# а затем проверить себя с помощью встроенных функций"
   ]
  },
  {
   "cell_type": "code",
   "execution_count": 35,
   "id": "f0b52bc9",
   "metadata": {},
   "outputs": [],
   "source": [
    "mu=174\n",
    "sigma=8"
   ]
  },
  {
   "cell_type": "code",
   "execution_count": 36,
   "id": "cbaf5d25",
   "metadata": {},
   "outputs": [],
   "source": [
    "# 1. больше 182 см"
   ]
  },
  {
   "cell_type": "code",
   "execution_count": 37,
   "id": "537ad94e",
   "metadata": {},
   "outputs": [
    {
     "data": {
      "text/plain": [
       "0.15865525393145707"
      ]
     },
     "execution_count": 37,
     "metadata": {},
     "output_type": "execute_result"
    }
   ],
   "source": [
    "pa=1-norm.cdf(182, mu, sigma)\n",
    "pa"
   ]
  },
  {
   "cell_type": "code",
   "execution_count": null,
   "id": "c1efa720",
   "metadata": {},
   "outputs": [],
   "source": [
    "# 2. больше 190 см"
   ]
  },
  {
   "cell_type": "code",
   "execution_count": 38,
   "id": "7090b81f",
   "metadata": {},
   "outputs": [
    {
     "data": {
      "text/plain": [
       "0.02275013194817921"
      ]
     },
     "execution_count": 38,
     "metadata": {},
     "output_type": "execute_result"
    }
   ],
   "source": [
    "pb=1-norm.cdf(190, mu, sigma)\n",
    "pb"
   ]
  },
  {
   "cell_type": "code",
   "execution_count": null,
   "id": "5d5c32c5",
   "metadata": {},
   "outputs": [],
   "source": [
    "# 3. от 166 см до 190 см?"
   ]
  },
  {
   "cell_type": "code",
   "execution_count": 39,
   "id": "8cdb78d3",
   "metadata": {},
   "outputs": [
    {
     "data": {
      "text/plain": [
       "0.8185946141203637"
      ]
     },
     "execution_count": 39,
     "metadata": {},
     "output_type": "execute_result"
    }
   ],
   "source": [
    "pc=norm.cdf(190, mu, sigma)-norm.cdf(166, mu, sigma)\n",
    "pc"
   ]
  },
  {
   "cell_type": "code",
   "execution_count": null,
   "id": "8ad9d9f9",
   "metadata": {},
   "outputs": [],
   "source": [
    "# 4. от 166 см до 182 см?"
   ]
  },
  {
   "cell_type": "code",
   "execution_count": 40,
   "id": "eb48580a",
   "metadata": {},
   "outputs": [
    {
     "data": {
      "text/plain": [
       "0.6826894921370859"
      ]
     },
     "execution_count": 40,
     "metadata": {},
     "output_type": "execute_result"
    }
   ],
   "source": [
    "pd=norm.cdf(182, mu, sigma)-norm.cdf(166, mu, sigma)\n",
    "pd"
   ]
  },
  {
   "cell_type": "code",
   "execution_count": null,
   "id": "239800f9",
   "metadata": {},
   "outputs": [],
   "source": [
    "#  5. от 158 см до 190 см?"
   ]
  },
  {
   "cell_type": "code",
   "execution_count": 41,
   "id": "21fd2f5b",
   "metadata": {},
   "outputs": [
    {
     "data": {
      "text/plain": [
       "0.9544997361036416"
      ]
     },
     "execution_count": 41,
     "metadata": {},
     "output_type": "execute_result"
    }
   ],
   "source": [
    "pe=norm.cdf(190, mu, sigma)-norm.cdf(158, mu, sigma)\n",
    "pe"
   ]
  },
  {
   "cell_type": "code",
   "execution_count": null,
   "id": "3f5c507f",
   "metadata": {},
   "outputs": [],
   "source": [
    " # 6. не выше 150 см или не ниже 190 см?"
   ]
  },
  {
   "cell_type": "code",
   "execution_count": 42,
   "id": "a0d814a0",
   "metadata": {},
   "outputs": [
    {
     "data": {
      "text/plain": [
       "0.0241000299798092"
      ]
     },
     "execution_count": 42,
     "metadata": {},
     "output_type": "execute_result"
    }
   ],
   "source": [
    "pf=norm.cdf(150, mu, sigma)+1-norm.cdf(190, mu, sigma)\n",
    "pf"
   ]
  },
  {
   "cell_type": "code",
   "execution_count": null,
   "id": "c3f74d83",
   "metadata": {},
   "outputs": [],
   "source": [
    "# 7. не выше 150 см или не ниже 198 см?"
   ]
  },
  {
   "cell_type": "code",
   "execution_count": 43,
   "id": "2fdcf426",
   "metadata": {},
   "outputs": [
    {
     "data": {
      "text/plain": [
       "0.002699796063260096"
      ]
     },
     "execution_count": 43,
     "metadata": {},
     "output_type": "execute_result"
    }
   ],
   "source": [
    "pg=norm.cdf(150, mu, sigma)+1-norm.cdf(198, mu, sigma)\n",
    "pg"
   ]
  },
  {
   "cell_type": "code",
   "execution_count": null,
   "id": "5e789592",
   "metadata": {},
   "outputs": [],
   "source": [
    " # 8. ниже 166 см?"
   ]
  },
  {
   "cell_type": "code",
   "execution_count": 44,
   "id": "3272e6ab",
   "metadata": {},
   "outputs": [
    {
     "data": {
      "text/plain": [
       "0.15865525393145707"
      ]
     },
     "execution_count": 44,
     "metadata": {},
     "output_type": "execute_result"
    }
   ],
   "source": [
    "ph=norm.cdf(166, mu, sigma)\n",
    "ph"
   ]
  },
  {
   "cell_type": "code",
   "execution_count": null,
   "id": "b3ddea05",
   "metadata": {},
   "outputs": [],
   "source": [
    "# Задача 5. На сколько сигм (средних квадратичных отклонений) отклоняется рост человека,\n",
    "# равный 190 см, от математического ожидания роста в популяции, в которой M(X) = 178 см и D(X) = 25 кв.см?"
   ]
  },
  {
   "cell_type": "code",
   "execution_count": 45,
   "id": "8db9f4e2",
   "metadata": {},
   "outputs": [
    {
     "data": {
      "text/plain": [
       "2.4"
      ]
     },
     "execution_count": 45,
     "metadata": {},
     "output_type": "execute_result"
    }
   ],
   "source": [
    "Z=(190-178)/25**(1/2)\n",
    "Z"
   ]
  },
  {
   "cell_type": "code",
   "execution_count": null,
   "id": "d2ae8d4d",
   "metadata": {},
   "outputs": [],
   "source": []
  }
 ],
 "metadata": {
  "kernelspec": {
   "display_name": "Python 3 (ipykernel)",
   "language": "python",
   "name": "python3"
  },
  "language_info": {
   "codemirror_mode": {
    "name": "ipython",
    "version": 3
   },
   "file_extension": ".py",
   "mimetype": "text/x-python",
   "name": "python",
   "nbconvert_exporter": "python",
   "pygments_lexer": "ipython3",
   "version": "3.11.1"
  }
 },
 "nbformat": 4,
 "nbformat_minor": 5
}
